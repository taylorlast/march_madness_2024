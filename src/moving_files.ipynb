{
 "cells": [
  {
   "cell_type": "code",
   "execution_count": 16,
   "metadata": {},
   "outputs": [],
   "source": [
    "import shutil\n",
    "import os"
   ]
  },
  {
   "cell_type": "code",
   "execution_count": 17,
   "metadata": {},
   "outputs": [],
   "source": [
    "direct = \"../data/kenpom\"\n",
    "for file in os.listdir(direct):\n",
    "    if file == \".DS_Store\":\n",
    "        continue\n",
    "    full_path = os.path.join(direct, file)\n",
    "    if os.path.isfile(full_path):\n",
    "        y = file.split(\".\")[0][-2:]\n",
    "        new_dir = direct + \"/20\" + y\n",
    "        shutil.move(full_path, new_dir)"
   ]
  },
  {
   "cell_type": "code",
   "execution_count": 15,
   "metadata": {},
   "outputs": [
    {
     "name": "stdout",
     "output_type": "stream",
     "text": [
      "2013 6\n",
      "2014 6\n",
      "2022 6\n",
      "2024 6\n",
      "2023 7\n",
      "2015 6\n",
      "2012 6\n",
      "2008 6\n",
      "2006 5\n",
      "2007 6\n",
      "2009 6\n",
      "2017 6\n",
      "2010 6\n",
      "2019 6\n",
      "2021 6\n",
      "2020 6\n",
      "2018 6\n",
      "2011 6\n",
      "2016 6\n",
      "2005 5\n",
      "2002 5\n",
      "2003 5\n",
      "2004 5\n"
     ]
    }
   ],
   "source": [
    "direct = \"../data/kenpom\"\n",
    "for file in os.listdir(direct):\n",
    "    # if os.path.isdir(file):\n",
    "    if os.path.isdir(os.path.join(direct, file)):\n",
    "        print(file, len(os.listdir(os.path.join(direct, file))))"
   ]
  },
  {
   "cell_type": "code",
   "execution_count": null,
   "metadata": {},
   "outputs": [],
   "source": []
  }
 ],
 "metadata": {
  "kernelspec": {
   "display_name": "mm_2024",
   "language": "python",
   "name": "python3"
  },
  "language_info": {
   "codemirror_mode": {
    "name": "ipython",
    "version": 3
   },
   "file_extension": ".py",
   "mimetype": "text/x-python",
   "name": "python",
   "nbconvert_exporter": "python",
   "pygments_lexer": "ipython3",
   "version": "3.10.13"
  }
 },
 "nbformat": 4,
 "nbformat_minor": 2
}
