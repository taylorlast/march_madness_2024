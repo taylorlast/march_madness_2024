{
 "cells": [
  {
   "cell_type": "code",
   "execution_count": 1,
   "metadata": {},
   "outputs": [
    {
     "name": "stderr",
     "output_type": "stream",
     "text": [
      "/var/folders/6y/6p7qrh9s27d1s3l8p2l81vbw0000gn/T/ipykernel_76081/1576438456.py:2: DeprecationWarning: \n",
      "Pyarrow will become a required dependency of pandas in the next major release of pandas (pandas 3.0),\n",
      "(to allow more performant data types, such as the Arrow string type, and better interoperability with other libraries)\n",
      "but was not found to be installed on your system.\n",
      "If this would cause problems for you,\n",
      "please provide us feedback at https://github.com/pandas-dev/pandas/issues/54466\n",
      "        \n",
      "  import pandas as pd\n"
     ]
    }
   ],
   "source": [
    "import os\n",
    "import pandas as pd\n",
    "import numpy as np"
   ]
  },
  {
   "cell_type": "code",
   "execution_count": 2,
   "metadata": {},
   "outputs": [
    {
     "name": "stderr",
     "output_type": "stream",
     "text": [
      "/var/folders/6y/6p7qrh9s27d1s3l8p2l81vbw0000gn/T/ipykernel_76081/3354023943.py:30: PerformanceWarning: DataFrame is highly fragmented.  This is usually the result of calling `frame.insert` many times, which has poor performance.  Consider joining all columns at once using pd.concat(axis=1) instead. To get a de-fragmented frame, use `newframe = frame.copy()`\n",
      "  df = pd.concat(data[year].values()).groupby('TeamName', as_index=False).first()\n",
      "/var/folders/6y/6p7qrh9s27d1s3l8p2l81vbw0000gn/T/ipykernel_76081/3354023943.py:30: PerformanceWarning: DataFrame is highly fragmented.  This is usually the result of calling `frame.insert` many times, which has poor performance.  Consider joining all columns at once using pd.concat(axis=1) instead. To get a de-fragmented frame, use `newframe = frame.copy()`\n",
      "  df = pd.concat(data[year].values()).groupby('TeamName', as_index=False).first()\n",
      "/var/folders/6y/6p7qrh9s27d1s3l8p2l81vbw0000gn/T/ipykernel_76081/3354023943.py:30: PerformanceWarning: DataFrame is highly fragmented.  This is usually the result of calling `frame.insert` many times, which has poor performance.  Consider joining all columns at once using pd.concat(axis=1) instead. To get a de-fragmented frame, use `newframe = frame.copy()`\n",
      "  df = pd.concat(data[year].values()).groupby('TeamName', as_index=False).first()\n",
      "/var/folders/6y/6p7qrh9s27d1s3l8p2l81vbw0000gn/T/ipykernel_76081/3354023943.py:30: PerformanceWarning: DataFrame is highly fragmented.  This is usually the result of calling `frame.insert` many times, which has poor performance.  Consider joining all columns at once using pd.concat(axis=1) instead. To get a de-fragmented frame, use `newframe = frame.copy()`\n",
      "  df = pd.concat(data[year].values()).groupby('TeamName', as_index=False).first()\n",
      "/var/folders/6y/6p7qrh9s27d1s3l8p2l81vbw0000gn/T/ipykernel_76081/3354023943.py:30: PerformanceWarning: DataFrame is highly fragmented.  This is usually the result of calling `frame.insert` many times, which has poor performance.  Consider joining all columns at once using pd.concat(axis=1) instead. To get a de-fragmented frame, use `newframe = frame.copy()`\n",
      "  df = pd.concat(data[year].values()).groupby('TeamName', as_index=False).first()\n",
      "/var/folders/6y/6p7qrh9s27d1s3l8p2l81vbw0000gn/T/ipykernel_76081/3354023943.py:30: PerformanceWarning: DataFrame is highly fragmented.  This is usually the result of calling `frame.insert` many times, which has poor performance.  Consider joining all columns at once using pd.concat(axis=1) instead. To get a de-fragmented frame, use `newframe = frame.copy()`\n",
      "  df = pd.concat(data[year].values()).groupby('TeamName', as_index=False).first()\n",
      "/var/folders/6y/6p7qrh9s27d1s3l8p2l81vbw0000gn/T/ipykernel_76081/3354023943.py:30: PerformanceWarning: DataFrame is highly fragmented.  This is usually the result of calling `frame.insert` many times, which has poor performance.  Consider joining all columns at once using pd.concat(axis=1) instead. To get a de-fragmented frame, use `newframe = frame.copy()`\n",
      "  df = pd.concat(data[year].values()).groupby('TeamName', as_index=False).first()\n",
      "/var/folders/6y/6p7qrh9s27d1s3l8p2l81vbw0000gn/T/ipykernel_76081/3354023943.py:30: PerformanceWarning: DataFrame is highly fragmented.  This is usually the result of calling `frame.insert` many times, which has poor performance.  Consider joining all columns at once using pd.concat(axis=1) instead. To get a de-fragmented frame, use `newframe = frame.copy()`\n",
      "  df = pd.concat(data[year].values()).groupby('TeamName', as_index=False).first()\n",
      "/var/folders/6y/6p7qrh9s27d1s3l8p2l81vbw0000gn/T/ipykernel_76081/3354023943.py:30: PerformanceWarning: DataFrame is highly fragmented.  This is usually the result of calling `frame.insert` many times, which has poor performance.  Consider joining all columns at once using pd.concat(axis=1) instead. To get a de-fragmented frame, use `newframe = frame.copy()`\n",
      "  df = pd.concat(data[year].values()).groupby('TeamName', as_index=False).first()\n",
      "/var/folders/6y/6p7qrh9s27d1s3l8p2l81vbw0000gn/T/ipykernel_76081/3354023943.py:30: PerformanceWarning: DataFrame is highly fragmented.  This is usually the result of calling `frame.insert` many times, which has poor performance.  Consider joining all columns at once using pd.concat(axis=1) instead. To get a de-fragmented frame, use `newframe = frame.copy()`\n",
      "  df = pd.concat(data[year].values()).groupby('TeamName', as_index=False).first()\n",
      "/var/folders/6y/6p7qrh9s27d1s3l8p2l81vbw0000gn/T/ipykernel_76081/3354023943.py:30: PerformanceWarning: DataFrame is highly fragmented.  This is usually the result of calling `frame.insert` many times, which has poor performance.  Consider joining all columns at once using pd.concat(axis=1) instead. To get a de-fragmented frame, use `newframe = frame.copy()`\n",
      "  df = pd.concat(data[year].values()).groupby('TeamName', as_index=False).first()\n",
      "/var/folders/6y/6p7qrh9s27d1s3l8p2l81vbw0000gn/T/ipykernel_76081/3354023943.py:30: PerformanceWarning: DataFrame is highly fragmented.  This is usually the result of calling `frame.insert` many times, which has poor performance.  Consider joining all columns at once using pd.concat(axis=1) instead. To get a de-fragmented frame, use `newframe = frame.copy()`\n",
      "  df = pd.concat(data[year].values()).groupby('TeamName', as_index=False).first()\n",
      "/var/folders/6y/6p7qrh9s27d1s3l8p2l81vbw0000gn/T/ipykernel_76081/3354023943.py:30: PerformanceWarning: DataFrame is highly fragmented.  This is usually the result of calling `frame.insert` many times, which has poor performance.  Consider joining all columns at once using pd.concat(axis=1) instead. To get a de-fragmented frame, use `newframe = frame.copy()`\n",
      "  df = pd.concat(data[year].values()).groupby('TeamName', as_index=False).first()\n",
      "/var/folders/6y/6p7qrh9s27d1s3l8p2l81vbw0000gn/T/ipykernel_76081/3354023943.py:30: PerformanceWarning: DataFrame is highly fragmented.  This is usually the result of calling `frame.insert` many times, which has poor performance.  Consider joining all columns at once using pd.concat(axis=1) instead. To get a de-fragmented frame, use `newframe = frame.copy()`\n",
      "  df = pd.concat(data[year].values()).groupby('TeamName', as_index=False).first()\n",
      "/var/folders/6y/6p7qrh9s27d1s3l8p2l81vbw0000gn/T/ipykernel_76081/3354023943.py:30: PerformanceWarning: DataFrame is highly fragmented.  This is usually the result of calling `frame.insert` many times, which has poor performance.  Consider joining all columns at once using pd.concat(axis=1) instead. To get a de-fragmented frame, use `newframe = frame.copy()`\n",
      "  df = pd.concat(data[year].values()).groupby('TeamName', as_index=False).first()\n"
     ]
    },
    {
     "name": "stdout",
     "output_type": "stream",
     "text": [
      "Error with summary20.csv: No columns to parse from file\n"
     ]
    },
    {
     "name": "stderr",
     "output_type": "stream",
     "text": [
      "/var/folders/6y/6p7qrh9s27d1s3l8p2l81vbw0000gn/T/ipykernel_76081/3354023943.py:30: PerformanceWarning: DataFrame is highly fragmented.  This is usually the result of calling `frame.insert` many times, which has poor performance.  Consider joining all columns at once using pd.concat(axis=1) instead. To get a de-fragmented frame, use `newframe = frame.copy()`\n",
      "  df = pd.concat(data[year].values()).groupby('TeamName', as_index=False).first()\n",
      "/var/folders/6y/6p7qrh9s27d1s3l8p2l81vbw0000gn/T/ipykernel_76081/3354023943.py:30: PerformanceWarning: DataFrame is highly fragmented.  This is usually the result of calling `frame.insert` many times, which has poor performance.  Consider joining all columns at once using pd.concat(axis=1) instead. To get a de-fragmented frame, use `newframe = frame.copy()`\n",
      "  df = pd.concat(data[year].values()).groupby('TeamName', as_index=False).first()\n",
      "/var/folders/6y/6p7qrh9s27d1s3l8p2l81vbw0000gn/T/ipykernel_76081/3354023943.py:30: PerformanceWarning: DataFrame is highly fragmented.  This is usually the result of calling `frame.insert` many times, which has poor performance.  Consider joining all columns at once using pd.concat(axis=1) instead. To get a de-fragmented frame, use `newframe = frame.copy()`\n",
      "  df = pd.concat(data[year].values()).groupby('TeamName', as_index=False).first()\n"
     ]
    }
   ],
   "source": [
    "# Input data files are available in the read-only \"../input/\" directory\n",
    "# For example, running this (by clicking run or pressing Shift+Enter) will list all files under the input directory\n",
    "# You can write up to 20GB to the current directory (/kaggle/working/) that gets preserved as output when you create a version using \"Save & Run All\" \n",
    "# You can also write temporary files to /kaggle/temp/, but they won't be saved outside of the current session\n",
    "data = dict()\n",
    "for year in range(2002, 2025):\n",
    "    year_data = dict()\n",
    "    for dirname, _, filenames in os.walk(f'../data/kenpom/{year}'):\n",
    "        for filename in filenames:\n",
    "            if filename == \".DS_Store\":\n",
    "                continue\n",
    "            table_name = filename.split('.')[0]\n",
    "            bic = table_name.split(\".csv\")[0].split(\"/\")[-1][:-2] #ball in court looking for offense/defense\n",
    "            table_path = os.path.join(dirname, filename)\n",
    "            try:\n",
    "                temp = pd.read_csv(table_path)\n",
    "                temp = temp.rename(columns={col:col.replace(\"_\", \"\") for col in temp.columns})\n",
    "                if (bic == \"offense\") | (bic == \"defense\"):\n",
    "                    temp = temp.rename(columns={col: col + \"_\" + bic for col in temp.columns if col not in [\"Season\", \"TeamName\"]})\n",
    "                year_data[table_path] = temp\n",
    "            except UnicodeDecodeError:\n",
    "                temp = pd.read_csv(table_path, encoding='cp1252')\n",
    "                temp = temp.rename(columns={col:col.replace(\"_\", \"\") for col in temp.columns})\n",
    "                if (bic == \"offense\") | (bic == \"defense\"):\n",
    "                    temp = temp.rename(columns={col: col + \"_\" + bic for col in temp.columns if col not in [\"Season\", \"TeamName\"]})\n",
    "                year_data[table_path] = temp\n",
    "            except Exception as e:\n",
    "                print(f\"Error with {filename}: {e}\")\n",
    "    data[year] = year_data\n",
    "    df = pd.concat(data[year].values()).groupby('TeamName', as_index=False).first()\n",
    "    data[year] = df\n"
   ]
  },
  {
   "cell_type": "code",
   "execution_count": 3,
   "metadata": {},
   "outputs": [],
   "source": [
    "# data[2002][[col for col in data[2002].columns if col.endswith(\"_offense\")] + [\"TeamName\"]]"
   ]
  },
  {
   "cell_type": "code",
   "execution_count": 4,
   "metadata": {},
   "outputs": [],
   "source": [
    "df = pd.concat(data.values(),ignore_index=True)"
   ]
  },
  {
   "cell_type": "code",
   "execution_count": 8,
   "metadata": {},
   "outputs": [],
   "source": [
    "df[\"TeamName\"] = df[\"TeamName\"].str.replace(\".\", \"\")\n",
    "df[\"TeamName\"] = df[\"TeamName\"].str.replace(\"Saint Mary's\", \"St Mary's CA\")"
   ]
  },
  {
   "cell_type": "code",
   "execution_count": 11,
   "metadata": {},
   "outputs": [
    {
     "data": {
      "text/plain": [
       "0           Air Force\n",
       "1               Akron\n",
       "2             Alabama\n",
       "3         Alabama A&M\n",
       "4          Alabama St\n",
       "            ...      \n",
       "8294        Wright St\n",
       "8295          Wyoming\n",
       "8296           Xavier\n",
       "8297             Yale\n",
       "8298    Youngstown St\n",
       "Name: TeamName, Length: 8299, dtype: object"
      ]
     },
     "execution_count": 11,
     "metadata": {},
     "output_type": "execute_result"
    }
   ],
   "source": [
    "df[\"TeamName\"]"
   ]
  },
  {
   "cell_type": "code",
   "execution_count": 10,
   "metadata": {},
   "outputs": [],
   "source": [
    "df.to_csv(\"../data/kenpom/kenpom_all.csv\", index=False)"
   ]
  },
  {
   "cell_type": "code",
   "execution_count": null,
   "metadata": {},
   "outputs": [],
   "source": []
  }
 ],
 "metadata": {
  "kernelspec": {
   "display_name": "mm_2024",
   "language": "python",
   "name": "python3"
  },
  "language_info": {
   "codemirror_mode": {
    "name": "ipython",
    "version": 3
   },
   "file_extension": ".py",
   "mimetype": "text/x-python",
   "name": "python",
   "nbconvert_exporter": "python",
   "pygments_lexer": "ipython3",
   "version": "3.10.13"
  }
 },
 "nbformat": 4,
 "nbformat_minor": 2
}
